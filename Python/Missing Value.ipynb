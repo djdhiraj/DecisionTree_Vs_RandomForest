{
 "cells": [
  {
   "cell_type": "code",
   "execution_count": 14,
   "metadata": {},
   "outputs": [
    {
     "name": "stdout",
     "output_type": "stream",
     "text": [
      "     sepal length  sepal width  petal length  petal width            iris  \\\n",
      "0             5.1          3.5           1.4          0.2     Iris-setosa   \n",
      "1             4.9          3.0           1.4          0.2     Iris-setosa   \n",
      "2             4.7          3.2           1.3          0.2     Iris-setosa   \n",
      "3             4.6          3.1           1.5          0.2     Iris-setosa   \n",
      "4             5.0          3.6           1.4          0.2     Iris-setosa   \n",
      "5             5.4          3.9           1.7          0.4     Iris-setosa   \n",
      "6             4.6          3.4           1.4          0.3     Iris-setosa   \n",
      "7             5.0          3.4           1.5          0.2     Iris-setosa   \n",
      "8             4.4          2.9           1.4          0.2     Iris-setosa   \n",
      "9             4.9          3.1           1.5          0.1     Iris-setosa   \n",
      "10            5.4          3.7           1.5          0.2     Iris-setosa   \n",
      "11            4.8          3.4           1.6          0.2     Iris-setosa   \n",
      "12            4.8          3.0           1.4          0.1     Iris-setosa   \n",
      "13            4.3          3.0           1.1          0.1     Iris-setosa   \n",
      "14            5.8          4.0           1.2          0.2     Iris-setosa   \n",
      "15            5.7          4.4           1.5          0.4     Iris-setosa   \n",
      "16            5.4          3.9           1.3          0.4     Iris-setosa   \n",
      "17            5.1          3.5           1.4          0.3     Iris-setosa   \n",
      "18            5.7          3.8           1.7          0.3     Iris-setosa   \n",
      "19            5.1          3.8           1.5          0.3     Iris-setosa   \n",
      "20            5.4          3.4           1.7          0.2     Iris-setosa   \n",
      "21            5.1          3.7           1.5          0.4     Iris-setosa   \n",
      "22            4.6          3.6           1.0          0.2     Iris-setosa   \n",
      "23            5.1          3.3           1.7          0.5     Iris-setosa   \n",
      "24            4.8          3.4           1.9          0.2     Iris-setosa   \n",
      "25            5.0          3.0           1.6          0.2     Iris-setosa   \n",
      "26            5.0          3.4           1.6          0.4     Iris-setosa   \n",
      "27            5.2          3.5           1.5          0.2     Iris-setosa   \n",
      "28            5.2          3.4           1.4          0.2     Iris-setosa   \n",
      "29            4.7          3.2           1.6          0.2     Iris-setosa   \n",
      "..            ...          ...           ...          ...             ...   \n",
      "120           6.9          3.2           5.7          2.3  Iris-virginica   \n",
      "121           5.6          2.8           4.9          2.0  Iris-virginica   \n",
      "122           7.7          2.8           6.7          2.0  Iris-virginica   \n",
      "123           6.3          2.7           4.9          1.8  Iris-virginica   \n",
      "124           6.7          3.3           5.7          2.1  Iris-virginica   \n",
      "125           7.2          3.2           6.0          1.8  Iris-virginica   \n",
      "126           6.2          2.8           4.8          1.8  Iris-virginica   \n",
      "127           6.1          3.0           4.9          1.8  Iris-virginica   \n",
      "128           6.4          2.8           5.6          2.1  Iris-virginica   \n",
      "129           7.2          3.0           5.8          1.6  Iris-virginica   \n",
      "130           7.4          2.8           6.1          1.9  Iris-virginica   \n",
      "131           7.9          3.8           6.4          2.0  Iris-virginica   \n",
      "132           6.4          2.8           5.6          2.2  Iris-virginica   \n",
      "133           6.3          2.8           5.1          1.5  Iris-virginica   \n",
      "134           6.1          2.6           5.6          1.4  Iris-virginica   \n",
      "135           7.7          3.0           6.1          2.3  Iris-virginica   \n",
      "136           6.3          3.4           5.6          2.4  Iris-virginica   \n",
      "137           6.4          3.1           5.5          1.8  Iris-virginica   \n",
      "138           6.0          3.0           4.8          1.8  Iris-virginica   \n",
      "139           6.9          3.1           5.4          2.1  Iris-virginica   \n",
      "140           6.7          3.1           5.6          2.4  Iris-virginica   \n",
      "141           6.9          3.1           5.1          2.3  Iris-virginica   \n",
      "142           5.8          2.7           5.1          1.9  Iris-virginica   \n",
      "143           6.8          3.2           5.9          2.3  Iris-virginica   \n",
      "144           6.7          3.3           5.7          2.5  Iris-virginica   \n",
      "145           6.7          3.0           5.2          2.3  Iris-virginica   \n",
      "146           6.3          2.5           5.0          1.9  Iris-virginica   \n",
      "147           6.5          3.0           5.2          2.0  Iris-virginica   \n",
      "148           6.2          3.4           5.4          2.3  Iris-virginica   \n",
      "149           5.9          3.0           5.1          1.8  Iris-virginica   \n",
      "\n",
      "     Unnamed: 5  Unnamed: 6  Unnamed: 7  Unnamed: 8  \n",
      "0           NaN         NaN         NaN         NaN  \n",
      "1           NaN         NaN         NaN         NaN  \n",
      "2           NaN         NaN         NaN         NaN  \n",
      "3           NaN         NaN         NaN         NaN  \n",
      "4           NaN         NaN         NaN         NaN  \n",
      "5           NaN         NaN         NaN         NaN  \n",
      "6           NaN         NaN         NaN         NaN  \n",
      "7           NaN         NaN         NaN         NaN  \n",
      "8           NaN         NaN         NaN         NaN  \n",
      "9           NaN         NaN         NaN         NaN  \n",
      "10          NaN         NaN         NaN         NaN  \n",
      "11          NaN         NaN         NaN         NaN  \n",
      "12          NaN         NaN         NaN         NaN  \n",
      "13          NaN         NaN         NaN         NaN  \n",
      "14          NaN         NaN         NaN         NaN  \n",
      "15          NaN         NaN         NaN         NaN  \n",
      "16          NaN         NaN         NaN         NaN  \n",
      "17          NaN         NaN         NaN         NaN  \n",
      "18          NaN         NaN         NaN         NaN  \n",
      "19          NaN         NaN         NaN         NaN  \n",
      "20          NaN         NaN         NaN         NaN  \n",
      "21          NaN         NaN         NaN         NaN  \n",
      "22          NaN         NaN         NaN         NaN  \n",
      "23          NaN         NaN         NaN         NaN  \n",
      "24          NaN         NaN         NaN         NaN  \n",
      "25          NaN         NaN         NaN         NaN  \n",
      "26          NaN         NaN         NaN         NaN  \n",
      "27          NaN         NaN         NaN         NaN  \n",
      "28          NaN         NaN         NaN         NaN  \n",
      "29          NaN         NaN         NaN         NaN  \n",
      "..          ...         ...         ...         ...  \n",
      "120         NaN         NaN         NaN         NaN  \n",
      "121         NaN         NaN         NaN         NaN  \n",
      "122         NaN         NaN         NaN         NaN  \n",
      "123         NaN         NaN         NaN         NaN  \n",
      "124         NaN         NaN         NaN         NaN  \n",
      "125         NaN         NaN         NaN         NaN  \n",
      "126         NaN         NaN         NaN         NaN  \n",
      "127         NaN         NaN         NaN         NaN  \n",
      "128         NaN         NaN         NaN         NaN  \n",
      "129         NaN         NaN         NaN         NaN  \n",
      "130         NaN         NaN         NaN         NaN  \n",
      "131         NaN         NaN         NaN         NaN  \n",
      "132         NaN         NaN         NaN         NaN  \n",
      "133         NaN         NaN         NaN         NaN  \n",
      "134         NaN         NaN         NaN         NaN  \n",
      "135         NaN         NaN         NaN         NaN  \n",
      "136         NaN         NaN         NaN         NaN  \n",
      "137         NaN         NaN         NaN         NaN  \n",
      "138         NaN         NaN         NaN         NaN  \n",
      "139         NaN         NaN         NaN         NaN  \n",
      "140         NaN         NaN         NaN         NaN  \n",
      "141         NaN         NaN         NaN         NaN  \n",
      "142         NaN         NaN         NaN         NaN  \n",
      "143         NaN         NaN         NaN         NaN  \n",
      "144         NaN         NaN         NaN         NaN  \n",
      "145         NaN         NaN         NaN         NaN  \n",
      "146         NaN         NaN         NaN         NaN  \n",
      "147         NaN         NaN         NaN         NaN  \n",
      "148         NaN         NaN         NaN         NaN  \n",
      "149         NaN         NaN         NaN         NaN  \n",
      "\n",
      "[150 rows x 9 columns]\n",
      "[5.1 4.9 4.7 4.6 5.  5.4 4.6 5.  4.4 4.9 5.4 4.8 4.8 4.3 5.8 5.7 5.4 5.1\n",
      " 5.7 5.1 5.4 5.1 4.6 5.1 4.8 5.  5.  5.2 5.2 4.7 4.8 5.4 5.2 5.5 4.9 5.\n",
      " 5.5 4.9 4.4 5.1 5.  4.5 4.4 5.  5.1 4.8 5.1 4.6 5.3 5.  7.  6.4 6.9 5.5\n",
      " 6.5 5.7 6.3 4.9 6.6 5.2 5.  5.9 6.  6.1 5.6 6.7 5.6 5.8 6.2 5.6 5.9 6.1\n",
      " 6.3 6.1 6.4 6.6 6.8 6.7 6.  5.7 5.5 5.5 5.8 6.  5.4 6.  6.7 6.3 5.6 5.5\n",
      " 5.5 6.1 5.8 5.  5.6 5.7 5.7 6.2 5.1 5.7 6.3 5.8 7.1 6.3 6.5 7.6 4.9 7.3\n",
      " 6.7 7.2 6.5 6.4 6.8 5.7 5.8 6.4 6.5 7.7 7.7 6.  6.9 5.6 7.7 6.3 6.7 7.2\n",
      " 6.2 6.1 6.4 7.2 7.4 7.9 6.4 6.3 6.1 7.7 6.3 6.4 6.  6.9 6.7 6.9 5.8 6.8\n",
      " 6.7 6.7 6.3 6.5 6.2 5.9]\n"
     ]
    }
   ],
   "source": [
    "import numpy as np\n",
    "import pandas as pd\n",
    "data = pd.read_csv('iris_data.csv')\n",
    "print(data)\n",
    "heights = np.array(data['sepal length'])\n",
    "print(heights)"
   ]
  },
  {
   "cell_type": "code",
   "execution_count": 15,
   "metadata": {},
   "outputs": [
    {
     "name": "stdout",
     "output_type": "stream",
     "text": [
      "Mean height:  5.843333333333334\n",
      "Standard deviation: 0.8253012917851409\n",
      "Minimum height:  4.3\n",
      "Maximum height:  7.9\n"
     ]
    }
   ],
   "source": [
    "print(\"Mean height: \", heights.mean())\n",
    "print(\"Standard deviation:\", heights.std())\n",
    "print(\"Minimum height: \", heights.min())\n",
    "print(\"Maximum height: \", heights.max())"
   ]
  },
  {
   "cell_type": "code",
   "execution_count": 16,
   "metadata": {},
   "outputs": [
    {
     "name": "stdout",
     "output_type": "stream",
     "text": [
      "25th percentile:  5.1\n",
      "Median:  5.8\n",
      "75th percentile:  6.4\n"
     ]
    }
   ],
   "source": [
    "print(\"25th percentile: \", np.percentile(heights, 25))\n",
    "print(\"Median: \", np.median(heights))\n",
    "print(\"75th percentile: \", np.percentile(heights, 75))"
   ]
  },
  {
   "cell_type": "code",
   "execution_count": 17,
   "metadata": {},
   "outputs": [],
   "source": [
    "%matplotlib inline\n",
    "import matplotlib.pyplot as plt\n",
    "import seaborn; seaborn.set() # set plot style"
   ]
  },
  {
   "cell_type": "code",
   "execution_count": 18,
   "metadata": {},
   "outputs": [
    {
     "data": {
      "image/png": "[encoded data removed]",
      "text/plain": [
       "<Figure size 432x288 with 1 Axes>"
      ]
     },
     "metadata": {},
     "output_type": "display_data"
    }
   ],
   "source": [
    "plt.hist(heights)\n",
    "plt.title('Height Distribution of US Presidents')\n",
    "plt.xlabel('height (cm)')\n",
    "plt.ylabel('number');"
   ]
  },
  {
   "cell_type": "code",
   "execution_count": 19,
   "metadata": {},
   "outputs": [
    {
     "data": {
      "text/plain": [
       "'isnull()\\nGenerate a Boolean mask indicating missing values\\nnotnull()\\nOpposite of isnull()\\ndropna()\\nReturn a filtered version of the data\\nfillna()\\nReturn a copy of the data with missing values filled or imputed'"
      ]
     },
     "execution_count": 19,
     "metadata": {},
     "output_type": "execute_result"
    }
   ],
   "source": [
    "'''\n",
    "Pandas treats None and NaN as essentially interchangeable for indicating\n",
    "missing or null values. To facilitate this convention, there are several useful\n",
    "methods for detecting, removing, and replacing null values in Pandas data structures.\n",
    "\n",
    "isnull()\n",
    "Generate a Boolean mask indicating missing values\n",
    "\n",
    "notnull()\n",
    "Opposite of isnull()\n",
    "\n",
    "dropna()\n",
    "Return a filtered version of the data\n",
    "\n",
    "fillna()\n",
    "Return a copy of the data with missing values filled or imputed'''"
   ]
  },
  {
   "cell_type": "code",
   "execution_count": 20,
   "metadata": {},
   "outputs": [
    {
     "data": {
      "text/plain": [
       "0        1\n",
       "1      999\n",
       "2    hello\n",
       "3      999\n",
       "dtype: object"
      ]
     },
     "execution_count": 20,
     "metadata": {},
     "output_type": "execute_result"
    }
   ],
   "source": [
    "data = pd.Series([1, np.nan, 'hello', None])\n",
    "data.isnull()\n",
    "data.notnull()\n",
    "data.dropna()\n",
    "data.fillna(\"999\")"
   ]
  },
  {
   "cell_type": "code",
   "execution_count": 22,
   "metadata": {},
   "outputs": [
    {
     "data": {
      "text/html": [
       "<div>\n",
       "<style scoped>\n",
       "    .dataframe tbody tr th:only-of-type {\n",
       "        vertical-align: middle;\n",
       "    }\n",
       "\n",
       "    .dataframe tbody tr th {\n",
       "        vertical-align: top;\n",
       "    }\n",
       "\n",
       "    .dataframe thead th {\n",
       "        text-align: right;\n",
       "    }\n",
       "</style>\n",
       "<table border=\"1\" class=\"dataframe\">\n",
       "  <thead>\n",
       "    <tr style=\"text-align: right;\">\n",
       "      <th></th>\n",
       "      <th>0</th>\n",
       "      <th>1</th>\n",
       "      <th>2</th>\n",
       "    </tr>\n",
       "  </thead>\n",
       "  <tbody>\n",
       "    <tr>\n",
       "      <th>0</th>\n",
       "      <td>1.0</td>\n",
       "      <td>NaN</td>\n",
       "      <td>2</td>\n",
       "    </tr>\n",
       "    <tr>\n",
       "      <th>1</th>\n",
       "      <td>2.0</td>\n",
       "      <td>3.0</td>\n",
       "      <td>5</td>\n",
       "    </tr>\n",
       "    <tr>\n",
       "      <th>2</th>\n",
       "      <td>NaN</td>\n",
       "      <td>4.0</td>\n",
       "      <td>6</td>\n",
       "    </tr>\n",
       "  </tbody>\n",
       "</table>\n",
       "</div>"
      ],
      "text/plain": [
       "     0    1  2\n",
       "0  1.0  NaN  2\n",
       "1  2.0  3.0  5\n",
       "2  NaN  4.0  6"
      ]
     },
     "execution_count": 22,
     "metadata": {},
     "output_type": "execute_result"
    }
   ],
   "source": [
    "df = pd.DataFrame([[1, np.nan, 2],\n",
    "    [2, 3, 5],[np.nan, 4, 6]])\n",
    "df"
   ]
  },
  {
   "cell_type": "code",
   "execution_count": 25,
   "metadata": {},
   "outputs": [
    {
     "data": {
      "text/plain": [
       "a    1.0\n",
       "b    2.0\n",
       "c    2.0\n",
       "d    3.0\n",
       "e    3.0\n",
       "dtype: float64"
      ]
     },
     "execution_count": 25,
     "metadata": {},
     "output_type": "execute_result"
    }
   ],
   "source": [
    "df.dropna()\n",
    "df.dropna(axis='columns')\n",
    "df[3] = np.nan\n",
    "df.dropna(axis='columns', how='all')\n",
    "df.dropna(axis='rows', thresh=3)\n",
    "data = pd.Series([1, np.nan, 2, None, 3], index=list('abcde'))\n",
    "data\n",
    "data.fillna(0)\n",
    "data.fillna(method='ffill') # forward-fill\n",
    "data.fillna(method='bfill') # back-fill\n"
   ]
  },
  {
   "cell_type": "code",
   "execution_count": 24,
   "metadata": {},
   "outputs": [
    {
     "data": {
      "text/html": [
       "<div>\n",
       "<style scoped>\n",
       "    .dataframe tbody tr th:only-of-type {\n",
       "        vertical-align: middle;\n",
       "    }\n",
       "\n",
       "    .dataframe tbody tr th {\n",
       "        vertical-align: top;\n",
       "    }\n",
       "\n",
       "    .dataframe thead th {\n",
       "        text-align: right;\n",
       "    }\n",
       "</style>\n",
       "<table border=\"1\" class=\"dataframe\">\n",
       "  <thead>\n",
       "    <tr style=\"text-align: right;\">\n",
       "      <th></th>\n",
       "      <th>0</th>\n",
       "      <th>1</th>\n",
       "      <th>2</th>\n",
       "      <th>3</th>\n",
       "    </tr>\n",
       "  </thead>\n",
       "  <tbody>\n",
       "    <tr>\n",
       "      <th>0</th>\n",
       "      <td>1.0</td>\n",
       "      <td>1.0</td>\n",
       "      <td>2.0</td>\n",
       "      <td>2.0</td>\n",
       "    </tr>\n",
       "    <tr>\n",
       "      <th>1</th>\n",
       "      <td>2.0</td>\n",
       "      <td>3.0</td>\n",
       "      <td>5.0</td>\n",
       "      <td>5.0</td>\n",
       "    </tr>\n",
       "    <tr>\n",
       "      <th>2</th>\n",
       "      <td>NaN</td>\n",
       "      <td>4.0</td>\n",
       "      <td>6.0</td>\n",
       "      <td>6.0</td>\n",
       "    </tr>\n",
       "  </tbody>\n",
       "</table>\n",
       "</div>"
      ],
      "text/plain": [
       "     0    1    2    3\n",
       "0  1.0  1.0  2.0  2.0\n",
       "1  2.0  3.0  5.0  5.0\n",
       "2  NaN  4.0  6.0  6.0"
      ]
     },
     "execution_count": 24,
     "metadata": {},
     "output_type": "execute_result"
    }
   ],
   "source": [
    "df.fillna(method='ffill', axis=1)"
   ]
  },
  {
   "cell_type": "code",
   "execution_count": null,
   "metadata": {},
   "outputs": [],
   "source": []
  }
 ],
 "metadata": {
  "kernelspec": {
   "display_name": "Python 3",
   "language": "python",
   "name": "python3"
  },
  "language_info": {
   "codemirror_mode": {
    "name": "ipython",
    "version": 3
   },
   "file_extension": ".py",
   "mimetype": "text/x-python",
   "name": "python",
   "nbconvert_exporter": "python",
   "pygments_lexer": "ipython3",
   "version": "3.7.0"
  }
 },
 "nbformat": 4,
 "nbformat_minor": 2
}
